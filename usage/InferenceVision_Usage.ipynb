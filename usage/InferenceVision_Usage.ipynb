{
  "nbformat": 4,
  "nbformat_minor": 0,
  "metadata": {
    "colab": {
      "provenance": [],
      "toc_visible": true
    },
    "kernelspec": {
      "name": "python3",
      "display_name": "Python 3"
    },
    "language_info": {
      "name": "python"
    }
  },
  "cells": [
    {
      "cell_type": "markdown",
      "source": [
        "# **InferenceVision: Provide Geographic Coordinates from Bounding Boxes**\n",
        "\n",
        "In contemporary scientific research and applications, there is an increasing demand for accurate geospatial analysis to address various real-world challenges, ranging from environmental monitoring to urban planning and disaster response. The ability to precisely locate and identify objects within geographic areas plays a pivotal role in such endeavors. In this scientific project, we aim to enhance geospatial analysis by integrating object detection techniques with geographic coordinate calculations."
      ],
      "metadata": {
        "id": "1n5JQhFNLH8o"
      }
    },
    {
      "cell_type": "markdown",
      "source": [
        "## **Problem Statement**\n",
        "Traditional methods of geospatial analysis often rely on manual identification and mapping of objects within geographical regions. However, these methods are time-consuming, labor-intensive, and prone to errors. Moreover, they may lack the scalability required for large-scale analyses. Therefore, there is a need for automated solutions that can accurately detect and locate objects within geographic areas, enabling efficient and scalable geospatial analysis."
      ],
      "metadata": {
        "id": "VnYP3VDTK0iG"
      }
    },
    {
      "cell_type": "markdown",
      "source": [
        "## **Project Objective**\n",
        "Our project seeks to address the aforementioned challenges by developing an automated system that combines object detection algorithms with geographic coordinate calculations. By integrating these components, we aim to achieve the following objectives:\n",
        "\n",
        "<br>\n",
        "\n",
        "1. **Object Detection:** Utilize state-of-the-art object detection algorithms, such as YOLO (You Only Look Once), to automatically identify and localize objects within satellite or aerial imagery.\n",
        "\n",
        "2. **Geographic Coordinate Calculation:** Develop algorithms to calculate the geographic coordinates (latitude and longitude) of detected objects relative to a given bounding polygon. This involves converting normalized center coordinates of objects within the bounding polygon to precise geographic coordinates.\n",
        "\n",
        "3. **Integration and Visualization:** Integrate object detection results with calculated geographic coordinates to create a comprehensive geospatial dataset. Visualize the detected objects and their geographic locations on maps for further analysis and interpretation."
      ],
      "metadata": {
        "id": "TD2qgxh0K3iA"
      }
    },
    {
      "cell_type": "markdown",
      "source": [
        "## **Methodology**\n",
        "\n",
        "In this section, we outline the methodology employed for deriving geographic coordinates from input data within the InferenceVision framework. This methodological approach combines advanced techniques in satellite image analysis, object detection, and geographic coordinate calculation to enable precise geospatial analysis and visualization. Let's delve into the steps involved:\n",
        "\n",
        "**Given a set of inputs, the calculation unfolds as follows:**\n",
        "\n",
        "<br>\n",
        "\n",
        "**1- Transform VHR Satellite Image Coordinates to WGS 84 (EPSG:4326) and Extract Polygon Coordinates:** The target Coordinate Reference System (CRS) is WGS 84, representing a geographic coordinate system. Converting to this CRS standardizes the data. We use Nearest Neighbor interpolation, which can result in a blocky appearance. Transformed coordinates are precise to 6 decimal places. First, we transform image coordinates to WGS 84. Then, we extract polygon coordinates, defining the geographical extent with top-left and bottom-right corners as reference points for computing the geographic coordinates of normalized centers.\n",
        "\n",
        "<br>\n",
        "\n",
        "$$ \\text{Polygon coordinates} = {(lat_{top \\space left}, lon_{top \\space left}), (lat_{bottom \\space right}, lon_{bottom \\space right})} $$\n",
        "\n",
        "<br>\n",
        "\n",
        "**2- Calculate Normalized Centers:** Retrieve the pixel coordinates of the bounding box, then calculate its center. Next, proceed to normalize each center of the bounding box using image size. Representing the relative positions of objects within the defined polygon, normalized center coordinates are structured as a matrix with rows $(y_{norm}, x_{norm})$ for $i = 1, 2, \\ldots, number \\space of \\space centers$.\n",
        "\n",
        "<br>\n",
        "\n",
        "<br>\n",
        "\n",
        "**3- Calculate Geographic Coordinates:** The function calculates geographic coordinates using the following equations. For each $i$ from $1$ to $number \\space of \\space centers$ in the image:\n",
        "\n",
        "<br>\n",
        "\n",
        "$$ lat = lat_{top \\space left} + (lat_{bottom \\space right} - lat_{top \\space left}) \\times y_{norm} $$\n",
        "\n",
        "$$ lon = lon_{top \\space left} + (lon_{bottom \\space right} - lon_{top \\space left}) \\times x_{norm} $$\n",
        "\n",
        "   \n",
        "   **Where:**\n",
        "\n",
        "   - $lat$ represents latitude.\n",
        "   - $lon$ represents longitude.\n",
        "   - $y_{norm}$ and $x_{norm}$ are the normalized center coordinates.\n",
        "   - $lat_{top \\space left}, lon_{top \\space left}, lat_{bottom \\space right},$ and $lon_{bottom \\space right}$ are the latitude and longitude of the top-left and bottom-right corners of the polygon, respectively."
      ],
      "metadata": {
        "id": "bvqRNtMeK8JV"
      }
    },
    {
      "cell_type": "markdown",
      "source": [
        "## **Scientific Significance**\n",
        "The proposed project has several scientific implications and contributions:\n",
        "\n",
        "- **Automation and Efficiency:** By automating the process of object detection and geographic coordinate calculation, our system significantly reduces the time and effort required for geospatial analysis, thereby enhancing efficiency and scalability.\n",
        "\n",
        "- **Accuracy and Precision:** Through the integration of advanced algorithms, our system ensures high accuracy and precision in object detection and geographic coordinate calculation, leading to reliable and trustworthy results.\n",
        "\n",
        "- **Versatility and Adaptability:** The developed system is versatile and adaptable to various applications, including environmental monitoring, urban planning, agriculture, and disaster response. It provides researchers and practitioners with a powerful tool for analyzing geospatial data in diverse contexts."
      ],
      "metadata": {
        "id": "g3BzfCciLAYd"
      }
    },
    {
      "cell_type": "markdown",
      "source": [
        "## **Conclusion**\n",
        "This calculation elucidates the process of deriving geographic coordinates from given inputs, a pivotal step within `InferenceVision` framework. It facilitates the transformation of normalized center coordinates into precise geographic coordinates, fostering accurate geospatial analysis and visualization. Geographic coordinates, namely latitude and longitude, are indispensable for pinpointing specific locations on Earth's surface. This process outlined here harmonizes normalized center coordinates, relative values within a bounding area, into a set of coordinates mappable onto a geographical map for comprehensive analysis. In conclusion, our scientific project aims to advance the field of geospatial analysis by leveraging cutting-edge technologies and methodologies. By combining object detection with geographic coordinate calculation, we strive to provide researchers and practitioners with an efficient, accurate, and versatile solution for addressing complex geospatial challenges."
      ],
      "metadata": {
        "id": "X2oIb2DxLDY6"
      }
    },
    {
      "cell_type": "markdown",
      "source": [
        "# **1. How to Use**"
      ],
      "metadata": {
        "id": "oZzM9QSfKf1x"
      }
    },
    {
      "cell_type": "markdown",
      "source": [
        "To utilize the `InferenceVision` class for object detection and geographic coordinate calculation, follow these steps:"
      ],
      "metadata": {
        "id": "cYIFn35uKqJL"
      }
    },
    {
      "cell_type": "markdown",
      "source": [
        "## **1.1. Clone and Install**"
      ],
      "metadata": {
        "id": "kXOdutO6sBih"
      }
    },
    {
      "cell_type": "code",
      "source": [
        "!git clone https://github.com/doguilmak/InferenceVision.git\n",
        "%cd InferenceVision\n",
        "!pip install -r /content/InferenceVision/requirements.txt -q"
      ],
      "metadata": {
        "id": "9WNc9hi4Q1d9"
      },
      "execution_count": null,
      "outputs": []
    },
    {
      "cell_type": "markdown",
      "source": [
        "## **1.2. Initialization**"
      ],
      "metadata": {
        "id": "UxURjcp4KmVi"
      }
    },
    {
      "cell_type": "markdown",
      "source": [
        "Initialize an instance of the `InferenceVision` class by providing the following parameters:\n",
        "- `tif_path`: Path to the input TIFF image file.\n",
        "- `model_path`: Path to the YOLO model file for object detection.\n",
        "- `image_width`: Width of the input image.\n",
        "- `image_height`: Height of the input image."
      ],
      "metadata": {
        "id": "tJdI6QlRLWWk"
      }
    },
    {
      "cell_type": "code",
      "source": [
        "from inference_vision import InferenceVision\n",
        "\n",
        "print(f\"InferenceVision version: {InferenceVision.VERSION}\")"
      ],
      "metadata": {
        "colab": {
          "base_uri": "https://localhost:8080/"
        },
        "id": "pwF0PlGWNjLg",
        "outputId": "b0da8559-fb77-4d9b-b4d7-ca7f729aa8e7"
      },
      "execution_count": 2,
      "outputs": [
        {
          "output_type": "stream",
          "name": "stdout",
          "text": [
            "InferenceVision version: 1.0\n"
          ]
        }
      ]
    },
    {
      "cell_type": "markdown",
      "source": [
        "**NOTE: The input image must have a CRS set to ensure accurate geographic coordinate calculation.**"
      ],
      "metadata": {
        "id": "2GPP6gw8VLhQ"
      }
    },
    {
      "cell_type": "code",
      "source": [
        "width = 640\n",
        "height = 640\n",
        "\n",
        "inference = InferenceVision(tif_path=\"/content/image.tif\", # Path to your image.\n",
        "                            model_path=\"/content/model.pt\", # Path to your model.\n",
        "                            image_width=width,\n",
        "                            image_height=height)"
      ],
      "metadata": {
        "id": "cTH_vUkLOcLF"
      },
      "execution_count": 3,
      "outputs": []
    },
    {
      "cell_type": "markdown",
      "source": [
        "## **1.3. Process Image**"
      ],
      "metadata": {
        "id": "ci6ibyHXLnUq"
      }
    },
    {
      "cell_type": "markdown",
      "source": [
        "Invoke the `process_image` method to perform object detection and geographic coordinate calculation on the input image. Using GPU can speed up the process."
      ],
      "metadata": {
        "id": "m7ms6SuFLt-k"
      }
    },
    {
      "cell_type": "code",
      "source": [
        "inference.process_image(build_csv=True, csv_filename=\"output.csv\")"
      ],
      "metadata": {
        "colab": {
          "base_uri": "https://localhost:8080/"
        },
        "id": "ToJlDc-wLlIj",
        "outputId": "35104937-adfd-4905-f8f3-8730f23bca21"
      },
      "execution_count": 6,
      "outputs": [
        {
          "output_type": "stream",
          "name": "stdout",
          "text": [
            "\n",
            "image 1/1 /content/image.tif: 640x640 5 collapseds, 10 non_collapseds, 5012.9ms\n",
            "Speed: 9.2ms preprocess, 5012.9ms inference, 1854.9ms postprocess per image at shape (1, 3, 640, 640)\n",
            "\n",
            "\n",
            "DataFrame saved as output.csv\n"
          ]
        }
      ]
    },
    {
      "cell_type": "markdown",
      "source": [
        "This method detects objects in the input image, calculates their geographic coordinates, and optionally saves the results to a CSV file."
      ],
      "metadata": {
        "id": "bhp-81MlMBID"
      }
    },
    {
      "cell_type": "code",
      "source": [
        "# Prints results to console\n",
        "inference.process_image(build_csv=False)"
      ],
      "metadata": {
        "colab": {
          "base_uri": "https://localhost:8080/"
        },
        "id": "7hNOmSMVMSWw",
        "outputId": "dcfc23e5-746a-4c86-a8d4-ecc4a8182a65"
      },
      "execution_count": 7,
      "outputs": [
        {
          "output_type": "stream",
          "name": "stdout",
          "text": [
            "\n",
            "image 1/1 /content/image.tif: 640x640 5 collapseds, 10 non_collapseds, 4596.2ms\n",
            "Speed: 2.5ms preprocess, 4596.2ms inference, 1.3ms postprocess per image at shape (1, 3, 640, 640)\n",
            "------------------------------\n",
            "Point 0\n",
            "Latitude: 36.209461546 - Longitude: 36.152872433 (36.209461546, 36.152872433)\n",
            "Object type: non_collapsed\n",
            "Object type: 1.0\n",
            "Coordinates: [23.909339904785156, 87.95037841796875, 101.81745147705078, 148.59400939941406]\n",
            "Probability: 0.814360499382019\n",
            "Bounding Box Center: [308.854736328125, 425.17608642578125]\n",
            "Normalized Bounding Box Center: [0.09822405576705932, 0.18480030298233033]\n",
            "------------------------------\n",
            "Point 1\n",
            "Latitude: 36.208325861 - Longitude: 36.153735035 (36.208325861, 36.153735035)\n",
            "Object type: collapsed\n",
            "Object type: 0.0\n",
            "Coordinates: [267.8592529296875, 502.86468505859375, 352.1070556640625, 585.2774047851562]\n",
            "Probability: 0.7815790772438049\n",
            "Bounding Box Center: [308.854736328125, 425.17608642578125]\n",
            "Normalized Bounding Box Center: [0.4843486785888672, 0.8501110076904297]\n",
            "------------------------------\n",
            "Point 2\n",
            "Latitude: 36.208897519 - Longitude: 36.153386617 (36.208897519, 36.153386617)\n",
            "Object type: non_collapsed\n",
            "Object type: 1.0\n",
            "Coordinates: [172.59658813476562, 296.422607421875, 247.73904418945312, 363.05908203125]\n",
            "Probability: 0.7745966911315918\n",
            "Bounding Box Center: [308.854736328125, 425.17608642578125]\n",
            "Normalized Bounding Box Center: [0.3283872127532959, 0.5152200698852539]\n",
            "------------------------------\n",
            "Point 3\n",
            "Latitude: 36.208666703 - Longitude: 36.153117762 (36.208666703, 36.153117762)\n",
            "Object type: non_collapsed\n",
            "Object type: 1.0\n",
            "Coordinates: [93.84264373779297, 380.179931640625, 172.44915771484375, 452.3802490234375]\n",
            "Probability: 0.7675721645355225\n",
            "Bounding Box Center: [308.854736328125, 425.17608642578125]\n",
            "Normalized Bounding Box Center: [0.20804046988487243, 0.6504376411437989]\n",
            "------------------------------\n",
            "Point 4\n",
            "Latitude: 36.209662241 - Longitude: 36.153168510 (36.209662241, 36.153168510)\n",
            "Object type: non_collapsed\n",
            "Object type: 1.0\n",
            "Coordinates: [107.0134048461914, 9.381965637207031, 188.35470581054688, 76.6705551147461]\n",
            "Probability: 0.7639687061309814\n",
            "Bounding Box Center: [308.854736328125, 425.17608642578125]\n",
            "Normalized Bounding Box Center: [0.23075633645057678, 0.06722853183746338]\n",
            "------------------------------\n",
            "Point 5\n",
            "Latitude: 36.208309031 - Longitude: 36.153344921 (36.208309031, 36.153344921)\n",
            "Object type: collapsed\n",
            "Object type: 0.0\n",
            "Coordinates: [153.92172241210938, 507.59808349609375, 242.52365112304688, 593.1640014648438]\n",
            "Probability: 0.7586203217506409\n",
            "Bounding Box Center: [308.854736328125, 425.17608642578125]\n",
            "Normalized Bounding Box Center: [0.3097229480743408, 0.8599703788757325]\n",
            "------------------------------\n",
            "Point 6\n",
            "Latitude: 36.209557649 - Longitude: 36.153669753 (36.209557649, 36.153669753)\n",
            "Object type: non_collapsed\n",
            "Object type: 1.0\n",
            "Coordinates: [248.67970275878906, 44.954734802246094, 333.8822021484375, 119.52664947509766]\n",
            "Probability: 0.7399534583091736\n",
            "Bounding Box Center: [308.854736328125, 425.17608642578125]\n",
            "Normalized Bounding Box Center: [0.4551264882087708, 0.1285010814666748]\n",
            "------------------------------\n",
            "Point 7\n",
            "Latitude: 36.209727573 - Longitude: 36.154613161 (36.209727573, 36.154613161)\n",
            "Object type: non_collapsed\n",
            "Object type: 1.0\n",
            "Coordinates: [519.956298828125, 0.0, 603.144287109375, 37.063232421875]\n",
            "Probability: 0.7390662431716919\n",
            "Bounding Box Center: [308.854736328125, 425.17608642578125]\n",
            "Normalized Bounding Box Center: [0.8774223327636719, 0.028955650329589844]\n",
            "------------------------------\n",
            "Point 8\n",
            "Latitude: 36.208744538 - Longitude: 36.152762030 (36.208744538, 36.152762030)\n",
            "Object type: non_collapsed\n",
            "Object type: 1.0\n",
            "Coordinates: [0.0, 353.341064453125, 62.470054626464844, 420.85455322265625]\n",
            "Probability: 0.7376130819320679\n",
            "Bounding Box Center: [308.854736328125, 425.17608642578125]\n",
            "Normalized Bounding Box Center: [0.04880473017692566, 0.6048403263092041]\n",
            "------------------------------\n",
            "Point 9\n",
            "Latitude: 36.208936984 - Longitude: 36.153974373 (36.208936984, 36.153974373)\n",
            "Object type: collapsed\n",
            "Object type: 0.0\n",
            "Coordinates: [337.58038330078125, 268.1007080078125, 419.51806640625, 361.78839111328125]\n",
            "Probability: 0.7253483533859253\n",
            "Bounding Box Center: [308.854736328125, 425.17608642578125]\n",
            "Normalized Bounding Box Center: [0.5914831638336182, 0.4921008586883545]\n",
            "------------------------------\n",
            "Point 10\n",
            "Latitude: 36.209199141 - Longitude: 36.153744818 (36.209199141, 36.153744818)\n",
            "Object type: non_collapsed\n",
            "Object type: 1.0\n",
            "Coordinates: [275.05548095703125, 183.66070556640625, 350.51611328125, 249.64877319335938]\n",
            "Probability: 0.7109429836273193\n",
            "Bounding Box Center: [308.854736328125, 425.17608642578125]\n",
            "Normalized Bounding Box Center: [0.4887278079986572, 0.3385230302810669]\n",
            "------------------------------\n",
            "Point 11\n",
            "Latitude: 36.208145427 - Longitude: 36.154419719 (36.208145427, 36.154419719)\n",
            "Object type: non_collapsed\n",
            "Object type: 1.0\n",
            "Coordinates: [456.84033203125, 583.4404907226562, 555.4246826171875, 640.0]\n",
            "Probability: 0.6428155303001404\n",
            "Bounding Box Center: [308.854736328125, 425.17608642578125]\n",
            "Normalized Bounding Box Center: [0.7908320426940918, 0.9558128833770752]\n",
            "------------------------------\n",
            "Point 12\n",
            "Latitude: 36.208941948 - Longitude: 36.154658655 (36.208941948, 36.154658655)\n",
            "Object type: collapsed\n",
            "Object type: 0.0\n",
            "Coordinates: [521.4935302734375, 266.5304260253906, 627.6729736328125, 359.6360778808594]\n",
            "Probability: 0.5694676041603088\n",
            "Bounding Box Center: [308.854736328125, 425.17608642578125]\n",
            "Normalized Bounding Box Center: [0.8977863311767578, 0.4891925811767578]\n",
            "------------------------------\n",
            "Point 13\n",
            "Latitude: 36.209553614 - Longitude: 36.154561763 (36.209553614, 36.154561763)\n",
            "Object type: non_collapsed\n",
            "Object type: 1.0\n",
            "Coordinates: [501.40191650390625, 57.55866622924805, 592.2492065429688, 109.94801330566406]\n",
            "Probability: 0.563076376914978\n",
            "Bounding Box Center: [308.854736328125, 425.17608642578125]\n",
            "Normalized Bounding Box Center: [0.8544149398803711, 0.13086459338665007]\n",
            "------------------------------\n",
            "Point 14\n",
            "Latitude: 36.208642976 - Longitude: 36.153731096 (36.208642976, 36.153731096)\n",
            "Object type: collapsed\n",
            "Object type: 0.0\n",
            "Coordinates: [265.8543701171875, 379.77777099609375, 351.8551025390625, 470.57440185546875]\n",
            "Probability: 0.5132198333740234\n",
            "Bounding Box Center: [308.854736328125, 425.17608642578125]\n",
            "Normalized Bounding Box Center: [0.4825855255126953, 0.6643376350402832]\n"
          ]
        }
      ]
    },
    {
      "cell_type": "markdown",
      "source": [
        "## **1.4. Interpret Results**"
      ],
      "metadata": {
        "id": "-zY2E1BUMEIY"
      }
    },
    {
      "cell_type": "markdown",
      "source": [
        "Once the image processing is complete, you can interpret the results either by printing them to the console or by analyzing the generated CSV file. Now, let's load CSV file into a DataFrame."
      ],
      "metadata": {
        "id": "qM-CNNDgMJ4k"
      }
    },
    {
      "cell_type": "code",
      "source": [
        "import pandas as pd\n",
        "\n",
        "df = pd.read_csv(\"output.csv\")"
      ],
      "metadata": {
        "id": "zjb7oIMeMByy"
      },
      "execution_count": 8,
      "outputs": []
    },
    {
      "cell_type": "markdown",
      "source": [
        "Analyze and visualize the results."
      ],
      "metadata": {
        "id": "EXnyXcLkSIcW"
      }
    },
    {
      "cell_type": "code",
      "source": [
        "df.head()"
      ],
      "metadata": {
        "colab": {
          "base_uri": "https://localhost:8080/",
          "height": 417
        },
        "id": "IerHZDFTMZFD",
        "outputId": "8d67a99e-36ef-48bb-c2f2-4114c013c69c"
      },
      "execution_count": 9,
      "outputs": [
        {
          "output_type": "execute_result",
          "data": {
            "text/plain": [
              "                Image  Point   Latitude  Longitude    Object Type  \\\n",
              "0  /content/image.tif      0  36.209462  36.152872  non_collapsed   \n",
              "1  /content/image.tif      1  36.208326  36.153735      collapsed   \n",
              "2  /content/image.tif      2  36.208898  36.153387  non_collapsed   \n",
              "3  /content/image.tif      3  36.208667  36.153118  non_collapsed   \n",
              "4  /content/image.tif      4  36.209662  36.153169  non_collapsed   \n",
              "\n",
              "                                         Coordinates  Probability  \\\n",
              "0  [23.909339904785156, 87.95037841796875, 101.81...     0.814360   \n",
              "1  [267.8592529296875, 502.86468505859375, 352.10...     0.781579   \n",
              "2  [172.59658813476562, 296.422607421875, 247.739...     0.774597   \n",
              "3  [93.84264373779297, 380.179931640625, 172.4491...     0.767572   \n",
              "4  [107.0134048461914, 9.381965637207031, 188.354...     0.763969   \n",
              "\n",
              "                        Bounding Box Center  \\\n",
              "0    [62.86339569091797, 118.2721939086914]   \n",
              "1      [309.983154296875, 544.071044921875]   \n",
              "2   [210.16781616210938, 329.7408447265625]   \n",
              "3  [133.14590072631836, 416.28009033203125]   \n",
              "4   [147.68405532836914, 43.02626037597656]   \n",
              "\n",
              "               Normalized Bounding Box Center  \n",
              "0  [0.09822405576705932, 0.18480030298233033]  \n",
              "1    [0.4843486785888672, 0.8501110076904297]  \n",
              "2    [0.3283872127532959, 0.5152200698852539]  \n",
              "3   [0.20804046988487243, 0.6504376411437989]  \n",
              "4  [0.23075633645057678, 0.06722853183746338]  "
            ],
            "text/html": [
              "\n",
              "  <div id=\"df-3c18aa6f-333d-465b-914e-ce812cb9d3a7\" class=\"colab-df-container\">\n",
              "    <div>\n",
              "<style scoped>\n",
              "    .dataframe tbody tr th:only-of-type {\n",
              "        vertical-align: middle;\n",
              "    }\n",
              "\n",
              "    .dataframe tbody tr th {\n",
              "        vertical-align: top;\n",
              "    }\n",
              "\n",
              "    .dataframe thead th {\n",
              "        text-align: right;\n",
              "    }\n",
              "</style>\n",
              "<table border=\"1\" class=\"dataframe\">\n",
              "  <thead>\n",
              "    <tr style=\"text-align: right;\">\n",
              "      <th></th>\n",
              "      <th>Image</th>\n",
              "      <th>Point</th>\n",
              "      <th>Latitude</th>\n",
              "      <th>Longitude</th>\n",
              "      <th>Object Type</th>\n",
              "      <th>Coordinates</th>\n",
              "      <th>Probability</th>\n",
              "      <th>Bounding Box Center</th>\n",
              "      <th>Normalized Bounding Box Center</th>\n",
              "    </tr>\n",
              "  </thead>\n",
              "  <tbody>\n",
              "    <tr>\n",
              "      <th>0</th>\n",
              "      <td>/content/image.tif</td>\n",
              "      <td>0</td>\n",
              "      <td>36.209462</td>\n",
              "      <td>36.152872</td>\n",
              "      <td>non_collapsed</td>\n",
              "      <td>[23.909339904785156, 87.95037841796875, 101.81...</td>\n",
              "      <td>0.814360</td>\n",
              "      <td>[62.86339569091797, 118.2721939086914]</td>\n",
              "      <td>[0.09822405576705932, 0.18480030298233033]</td>\n",
              "    </tr>\n",
              "    <tr>\n",
              "      <th>1</th>\n",
              "      <td>/content/image.tif</td>\n",
              "      <td>1</td>\n",
              "      <td>36.208326</td>\n",
              "      <td>36.153735</td>\n",
              "      <td>collapsed</td>\n",
              "      <td>[267.8592529296875, 502.86468505859375, 352.10...</td>\n",
              "      <td>0.781579</td>\n",
              "      <td>[309.983154296875, 544.071044921875]</td>\n",
              "      <td>[0.4843486785888672, 0.8501110076904297]</td>\n",
              "    </tr>\n",
              "    <tr>\n",
              "      <th>2</th>\n",
              "      <td>/content/image.tif</td>\n",
              "      <td>2</td>\n",
              "      <td>36.208898</td>\n",
              "      <td>36.153387</td>\n",
              "      <td>non_collapsed</td>\n",
              "      <td>[172.59658813476562, 296.422607421875, 247.739...</td>\n",
              "      <td>0.774597</td>\n",
              "      <td>[210.16781616210938, 329.7408447265625]</td>\n",
              "      <td>[0.3283872127532959, 0.5152200698852539]</td>\n",
              "    </tr>\n",
              "    <tr>\n",
              "      <th>3</th>\n",
              "      <td>/content/image.tif</td>\n",
              "      <td>3</td>\n",
              "      <td>36.208667</td>\n",
              "      <td>36.153118</td>\n",
              "      <td>non_collapsed</td>\n",
              "      <td>[93.84264373779297, 380.179931640625, 172.4491...</td>\n",
              "      <td>0.767572</td>\n",
              "      <td>[133.14590072631836, 416.28009033203125]</td>\n",
              "      <td>[0.20804046988487243, 0.6504376411437989]</td>\n",
              "    </tr>\n",
              "    <tr>\n",
              "      <th>4</th>\n",
              "      <td>/content/image.tif</td>\n",
              "      <td>4</td>\n",
              "      <td>36.209662</td>\n",
              "      <td>36.153169</td>\n",
              "      <td>non_collapsed</td>\n",
              "      <td>[107.0134048461914, 9.381965637207031, 188.354...</td>\n",
              "      <td>0.763969</td>\n",
              "      <td>[147.68405532836914, 43.02626037597656]</td>\n",
              "      <td>[0.23075633645057678, 0.06722853183746338]</td>\n",
              "    </tr>\n",
              "  </tbody>\n",
              "</table>\n",
              "</div>\n",
              "    <div class=\"colab-df-buttons\">\n",
              "\n",
              "  <div class=\"colab-df-container\">\n",
              "    <button class=\"colab-df-convert\" onclick=\"convertToInteractive('df-3c18aa6f-333d-465b-914e-ce812cb9d3a7')\"\n",
              "            title=\"Convert this dataframe to an interactive table.\"\n",
              "            style=\"display:none;\">\n",
              "\n",
              "  <svg xmlns=\"http://www.w3.org/2000/svg\" height=\"24px\" viewBox=\"0 -960 960 960\">\n",
              "    <path d=\"M120-120v-720h720v720H120Zm60-500h600v-160H180v160Zm220 220h160v-160H400v160Zm0 220h160v-160H400v160ZM180-400h160v-160H180v160Zm440 0h160v-160H620v160ZM180-180h160v-160H180v160Zm440 0h160v-160H620v160Z\"/>\n",
              "  </svg>\n",
              "    </button>\n",
              "\n",
              "  <style>\n",
              "    .colab-df-container {\n",
              "      display:flex;\n",
              "      gap: 12px;\n",
              "    }\n",
              "\n",
              "    .colab-df-convert {\n",
              "      background-color: #E8F0FE;\n",
              "      border: none;\n",
              "      border-radius: 50%;\n",
              "      cursor: pointer;\n",
              "      display: none;\n",
              "      fill: #1967D2;\n",
              "      height: 32px;\n",
              "      padding: 0 0 0 0;\n",
              "      width: 32px;\n",
              "    }\n",
              "\n",
              "    .colab-df-convert:hover {\n",
              "      background-color: #E2EBFA;\n",
              "      box-shadow: 0px 1px 2px rgba(60, 64, 67, 0.3), 0px 1px 3px 1px rgba(60, 64, 67, 0.15);\n",
              "      fill: #174EA6;\n",
              "    }\n",
              "\n",
              "    .colab-df-buttons div {\n",
              "      margin-bottom: 4px;\n",
              "    }\n",
              "\n",
              "    [theme=dark] .colab-df-convert {\n",
              "      background-color: #3B4455;\n",
              "      fill: #D2E3FC;\n",
              "    }\n",
              "\n",
              "    [theme=dark] .colab-df-convert:hover {\n",
              "      background-color: #434B5C;\n",
              "      box-shadow: 0px 1px 3px 1px rgba(0, 0, 0, 0.15);\n",
              "      filter: drop-shadow(0px 1px 2px rgba(0, 0, 0, 0.3));\n",
              "      fill: #FFFFFF;\n",
              "    }\n",
              "  </style>\n",
              "\n",
              "    <script>\n",
              "      const buttonEl =\n",
              "        document.querySelector('#df-3c18aa6f-333d-465b-914e-ce812cb9d3a7 button.colab-df-convert');\n",
              "      buttonEl.style.display =\n",
              "        google.colab.kernel.accessAllowed ? 'block' : 'none';\n",
              "\n",
              "      async function convertToInteractive(key) {\n",
              "        const element = document.querySelector('#df-3c18aa6f-333d-465b-914e-ce812cb9d3a7');\n",
              "        const dataTable =\n",
              "          await google.colab.kernel.invokeFunction('convertToInteractive',\n",
              "                                                    [key], {});\n",
              "        if (!dataTable) return;\n",
              "\n",
              "        const docLinkHtml = 'Like what you see? Visit the ' +\n",
              "          '<a target=\"_blank\" href=https://colab.research.google.com/notebooks/data_table.ipynb>data table notebook</a>'\n",
              "          + ' to learn more about interactive tables.';\n",
              "        element.innerHTML = '';\n",
              "        dataTable['output_type'] = 'display_data';\n",
              "        await google.colab.output.renderOutput(dataTable, element);\n",
              "        const docLink = document.createElement('div');\n",
              "        docLink.innerHTML = docLinkHtml;\n",
              "        element.appendChild(docLink);\n",
              "      }\n",
              "    </script>\n",
              "  </div>\n",
              "\n",
              "\n",
              "<div id=\"df-b9f2eff2-4a79-4f52-abb9-1b316041aef3\">\n",
              "  <button class=\"colab-df-quickchart\" onclick=\"quickchart('df-b9f2eff2-4a79-4f52-abb9-1b316041aef3')\"\n",
              "            title=\"Suggest charts\"\n",
              "            style=\"display:none;\">\n",
              "\n",
              "<svg xmlns=\"http://www.w3.org/2000/svg\" height=\"24px\"viewBox=\"0 0 24 24\"\n",
              "     width=\"24px\">\n",
              "    <g>\n",
              "        <path d=\"M19 3H5c-1.1 0-2 .9-2 2v14c0 1.1.9 2 2 2h14c1.1 0 2-.9 2-2V5c0-1.1-.9-2-2-2zM9 17H7v-7h2v7zm4 0h-2V7h2v10zm4 0h-2v-4h2v4z\"/>\n",
              "    </g>\n",
              "</svg>\n",
              "  </button>\n",
              "\n",
              "<style>\n",
              "  .colab-df-quickchart {\n",
              "      --bg-color: #E8F0FE;\n",
              "      --fill-color: #1967D2;\n",
              "      --hover-bg-color: #E2EBFA;\n",
              "      --hover-fill-color: #174EA6;\n",
              "      --disabled-fill-color: #AAA;\n",
              "      --disabled-bg-color: #DDD;\n",
              "  }\n",
              "\n",
              "  [theme=dark] .colab-df-quickchart {\n",
              "      --bg-color: #3B4455;\n",
              "      --fill-color: #D2E3FC;\n",
              "      --hover-bg-color: #434B5C;\n",
              "      --hover-fill-color: #FFFFFF;\n",
              "      --disabled-bg-color: #3B4455;\n",
              "      --disabled-fill-color: #666;\n",
              "  }\n",
              "\n",
              "  .colab-df-quickchart {\n",
              "    background-color: var(--bg-color);\n",
              "    border: none;\n",
              "    border-radius: 50%;\n",
              "    cursor: pointer;\n",
              "    display: none;\n",
              "    fill: var(--fill-color);\n",
              "    height: 32px;\n",
              "    padding: 0;\n",
              "    width: 32px;\n",
              "  }\n",
              "\n",
              "  .colab-df-quickchart:hover {\n",
              "    background-color: var(--hover-bg-color);\n",
              "    box-shadow: 0 1px 2px rgba(60, 64, 67, 0.3), 0 1px 3px 1px rgba(60, 64, 67, 0.15);\n",
              "    fill: var(--button-hover-fill-color);\n",
              "  }\n",
              "\n",
              "  .colab-df-quickchart-complete:disabled,\n",
              "  .colab-df-quickchart-complete:disabled:hover {\n",
              "    background-color: var(--disabled-bg-color);\n",
              "    fill: var(--disabled-fill-color);\n",
              "    box-shadow: none;\n",
              "  }\n",
              "\n",
              "  .colab-df-spinner {\n",
              "    border: 2px solid var(--fill-color);\n",
              "    border-color: transparent;\n",
              "    border-bottom-color: var(--fill-color);\n",
              "    animation:\n",
              "      spin 1s steps(1) infinite;\n",
              "  }\n",
              "\n",
              "  @keyframes spin {\n",
              "    0% {\n",
              "      border-color: transparent;\n",
              "      border-bottom-color: var(--fill-color);\n",
              "      border-left-color: var(--fill-color);\n",
              "    }\n",
              "    20% {\n",
              "      border-color: transparent;\n",
              "      border-left-color: var(--fill-color);\n",
              "      border-top-color: var(--fill-color);\n",
              "    }\n",
              "    30% {\n",
              "      border-color: transparent;\n",
              "      border-left-color: var(--fill-color);\n",
              "      border-top-color: var(--fill-color);\n",
              "      border-right-color: var(--fill-color);\n",
              "    }\n",
              "    40% {\n",
              "      border-color: transparent;\n",
              "      border-right-color: var(--fill-color);\n",
              "      border-top-color: var(--fill-color);\n",
              "    }\n",
              "    60% {\n",
              "      border-color: transparent;\n",
              "      border-right-color: var(--fill-color);\n",
              "    }\n",
              "    80% {\n",
              "      border-color: transparent;\n",
              "      border-right-color: var(--fill-color);\n",
              "      border-bottom-color: var(--fill-color);\n",
              "    }\n",
              "    90% {\n",
              "      border-color: transparent;\n",
              "      border-bottom-color: var(--fill-color);\n",
              "    }\n",
              "  }\n",
              "</style>\n",
              "\n",
              "  <script>\n",
              "    async function quickchart(key) {\n",
              "      const quickchartButtonEl =\n",
              "        document.querySelector('#' + key + ' button');\n",
              "      quickchartButtonEl.disabled = true;  // To prevent multiple clicks.\n",
              "      quickchartButtonEl.classList.add('colab-df-spinner');\n",
              "      try {\n",
              "        const charts = await google.colab.kernel.invokeFunction(\n",
              "            'suggestCharts', [key], {});\n",
              "      } catch (error) {\n",
              "        console.error('Error during call to suggestCharts:', error);\n",
              "      }\n",
              "      quickchartButtonEl.classList.remove('colab-df-spinner');\n",
              "      quickchartButtonEl.classList.add('colab-df-quickchart-complete');\n",
              "    }\n",
              "    (() => {\n",
              "      let quickchartButtonEl =\n",
              "        document.querySelector('#df-b9f2eff2-4a79-4f52-abb9-1b316041aef3 button');\n",
              "      quickchartButtonEl.style.display =\n",
              "        google.colab.kernel.accessAllowed ? 'block' : 'none';\n",
              "    })();\n",
              "  </script>\n",
              "</div>\n",
              "\n",
              "    </div>\n",
              "  </div>\n"
            ],
            "application/vnd.google.colaboratory.intrinsic+json": {
              "type": "dataframe",
              "variable_name": "df",
              "summary": "{\n  \"name\": \"df\",\n  \"rows\": 15,\n  \"fields\": [\n    {\n      \"column\": \"Image\",\n      \"properties\": {\n        \"dtype\": \"category\",\n        \"num_unique_values\": 1,\n        \"samples\": [\n          \"/content/image.tif\"\n        ],\n        \"semantic_type\": \"\",\n        \"description\": \"\"\n      }\n    },\n    {\n      \"column\": \"Point\",\n      \"properties\": {\n        \"dtype\": \"number\",\n        \"std\": 4,\n        \"min\": 0,\n        \"max\": 14,\n        \"num_unique_values\": 15,\n        \"samples\": [\n          9\n        ],\n        \"semantic_type\": \"\",\n        \"description\": \"\"\n      }\n    },\n    {\n      \"column\": \"Latitude\",\n      \"properties\": {\n        \"dtype\": \"number\",\n        \"std\": 0.0005222533150116641,\n        \"min\": 36.208145427,\n        \"max\": 36.209727573,\n        \"num_unique_values\": 15,\n        \"samples\": [\n          36.208936984\n        ],\n        \"semantic_type\": \"\",\n        \"description\": \"\"\n      }\n    },\n    {\n      \"column\": \"Longitude\",\n      \"properties\": {\n        \"dtype\": \"number\",\n        \"std\": 0.0006267723611992753,\n        \"min\": 36.15276203,\n        \"max\": 36.154658655,\n        \"num_unique_values\": 15,\n        \"samples\": [\n          36.153974373\n        ],\n        \"semantic_type\": \"\",\n        \"description\": \"\"\n      }\n    },\n    {\n      \"column\": \"Object Type\",\n      \"properties\": {\n        \"dtype\": \"category\",\n        \"num_unique_values\": 2,\n        \"samples\": [\n          \"collapsed\"\n        ],\n        \"semantic_type\": \"\",\n        \"description\": \"\"\n      }\n    },\n    {\n      \"column\": \"Coordinates\",\n      \"properties\": {\n        \"dtype\": \"string\",\n        \"num_unique_values\": 15,\n        \"samples\": [\n          \"[337.58038330078125, 268.1007080078125, 419.51806640625, 361.78839111328125]\"\n        ],\n        \"semantic_type\": \"\",\n        \"description\": \"\"\n      }\n    },\n    {\n      \"column\": \"Probability\",\n      \"properties\": {\n        \"dtype\": \"number\",\n        \"std\": 0.09100207877989021,\n        \"min\": 0.5132198333740234,\n        \"max\": 0.814360499382019,\n        \"num_unique_values\": 15,\n        \"samples\": [\n          0.7253483533859253\n        ],\n        \"semantic_type\": \"\",\n        \"description\": \"\"\n      }\n    },\n    {\n      \"column\": \"Bounding Box Center\",\n      \"properties\": {\n        \"dtype\": \"string\",\n        \"num_unique_values\": 15,\n        \"samples\": [\n          \"[378.5492248535156, 314.9445495605469]\"\n        ],\n        \"semantic_type\": \"\",\n        \"description\": \"\"\n      }\n    },\n    {\n      \"column\": \"Normalized Bounding Box Center\",\n      \"properties\": {\n        \"dtype\": \"string\",\n        \"num_unique_values\": 15,\n        \"samples\": [\n          \"[0.5914831638336182, 0.4921008586883545]\"\n        ],\n        \"semantic_type\": \"\",\n        \"description\": \"\"\n      }\n    }\n  ]\n}"
            }
          },
          "metadata": {},
          "execution_count": 9
        }
      ]
    },
    {
      "cell_type": "markdown",
      "source": [
        "**Debugging:** In case of any errors or unexpected behavior during image processing, carefully review the input data, model configuration, and method calls. Use debugging tools such as print statements, logging, or interactive debugging to identify and resolve issues.\n",
        "\n",
        "<br>\n",
        "\n",
        "**Future Improvements:** Consider incorporating additional features or enhancements to further optimize the performance and usability of the `InferenceVision` class. Potential improvements may include support for alternative object detection models, integration with other geospatial libraries, or optimization of computational efficiency.\n",
        "\n",
        "<br>\n",
        "<hr>\n",
        "\n",
        "*Library will be available as a package on PyPI (Python Package Index).*"
      ],
      "metadata": {
        "id": "bMcTmaibXR3_"
      }
    }
  ]
}